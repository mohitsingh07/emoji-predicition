{
 "cells": [
  {
   "cell_type": "code",
   "execution_count": 1,
   "id": "confidential-intermediate",
   "metadata": {},
   "outputs": [],
   "source": [
    "import numpy as np\n",
    "import pandas as pd\n",
    "import emoji\n",
    "\n",
    "from keras.models import Sequential\n",
    "from keras.layers import Dense, LSTM, SimpleRNN, Embedding\n",
    "\n",
    "from keras.preprocessing.text import Tokenizer\n",
    "from keras.utils import pad_sequences\n",
    "\n",
    "from tensorflow.keras.utils import to_categorical"
   ]
  },
  {
   "cell_type": "code",
   "execution_count": 2,
   "id": "future-seeking",
   "metadata": {},
   "outputs": [
    {
     "data": {
      "text/html": [
       "<div>\n",
       "<style scoped>\n",
       "    .dataframe tbody tr th:only-of-type {\n",
       "        vertical-align: middle;\n",
       "    }\n",
       "\n",
       "    .dataframe tbody tr th {\n",
       "        vertical-align: top;\n",
       "    }\n",
       "\n",
       "    .dataframe thead th {\n",
       "        text-align: right;\n",
       "    }\n",
       "</style>\n",
       "<table border=\"1\" class=\"dataframe\">\n",
       "  <thead>\n",
       "    <tr style=\"text-align: right;\">\n",
       "      <th></th>\n",
       "      <th>0</th>\n",
       "      <th>1</th>\n",
       "    </tr>\n",
       "  </thead>\n",
       "  <tbody>\n",
       "    <tr>\n",
       "      <th>0</th>\n",
       "      <td>French macaroon is so tasty</td>\n",
       "      <td>4</td>\n",
       "    </tr>\n",
       "    <tr>\n",
       "      <th>1</th>\n",
       "      <td>work is horrible</td>\n",
       "      <td>3</td>\n",
       "    </tr>\n",
       "    <tr>\n",
       "      <th>2</th>\n",
       "      <td>I am upset</td>\n",
       "      <td>3</td>\n",
       "    </tr>\n",
       "    <tr>\n",
       "      <th>3</th>\n",
       "      <td>throw the ball</td>\n",
       "      <td>1</td>\n",
       "    </tr>\n",
       "    <tr>\n",
       "      <th>4</th>\n",
       "      <td>Good joke</td>\n",
       "      <td>2</td>\n",
       "    </tr>\n",
       "  </tbody>\n",
       "</table>\n",
       "</div>"
      ],
      "text/plain": [
       "                             0  1\n",
       "0  French macaroon is so tasty  4\n",
       "1             work is horrible  3\n",
       "2                   I am upset  3\n",
       "3               throw the ball  1\n",
       "4                    Good joke  2"
      ]
     },
     "execution_count": 2,
     "metadata": {},
     "output_type": "execute_result"
    }
   ],
   "source": [
    "data = pd.read_csv('emoji_data.csv', header = None)\n",
    "data.head()"
   ]
  },
  {
   "cell_type": "code",
   "execution_count": 3,
   "id": "hollywood-simulation",
   "metadata": {},
   "outputs": [],
   "source": [
    "emoji_dict = {\n",
    "    0: \":red_heart:\",\n",
    "    1: \":baseball:\",\n",
    "    2: \":grinning_face_with_big_eyes:\",\n",
    "    3: \":disappointed_face:\",\n",
    "    4: \":fork_and_knife_with_plate:\"\n",
    "}\n",
    "\n",
    "def label_to_emoji(label):\n",
    "    return emoji.emojize(emoji_dict[label])"
   ]
  },
  {
   "cell_type": "code",
   "execution_count": 4,
   "id": "indoor-recipient",
   "metadata": {},
   "outputs": [],
   "source": [
    "X = data[0].values\n",
    "Y = data[1].values"
   ]
  },
  {
   "cell_type": "markdown",
   "id": "concerned-oxide",
   "metadata": {},
   "source": [
    "# Embeddings"
   ]
  },
  {
   "cell_type": "code",
   "execution_count": 5,
   "id": "buried-opposition",
   "metadata": {},
   "outputs": [],
   "source": [
    "file = open('glove.6B.100d.txt', 'r', encoding = 'utf8')\n",
    "content = file.readlines()\n",
    "file.close()\n",
    "\n",
    "# content"
   ]
  },
  {
   "cell_type": "code",
   "execution_count": 6,
   "id": "based-response",
   "metadata": {},
   "outputs": [],
   "source": [
    "embeddings = {}\n",
    "\n",
    "for line in content:\n",
    "    line = line.split()\n",
    "    embeddings[line[0]] = np.array(line[1:], dtype = float)"
   ]
  },
  {
   "cell_type": "code",
   "execution_count": 10,
   "id": "coordinate-color",
   "metadata": {},
   "outputs": [
    {
     "name": "stdout",
     "output_type": "stream",
     "text": [
      "10\n"
     ]
    }
   ],
   "source": [
    "def get_maxlen(data):\n",
    "    maxlen = 0\n",
    "    for sent in data:\n",
    "        maxlen = max(maxlen, len(sent))\n",
    "    return maxlen\n",
    "\n",
    "maxlen = get_maxlen(Xtokens)\n",
    "print(maxlen)"
   ]
  },
  {
   "cell_type": "code",
   "execution_count": 11,
   "id": "manual-maryland",
   "metadata": {},
   "outputs": [],
   "source": [
    "tokenizer = Tokenizer()\n",
    "tokenizer.fit_on_texts(X)\n",
    "word2index = tokenizer.word_index"
   ]
  },
  {
   "cell_type": "code",
   "execution_count": 12,
   "id": "recovered-fortune",
   "metadata": {},
   "outputs": [],
   "source": [
    "Xtokens = tokenizer.texts_to_sequences(X)\n",
    "Xtrain = pad_sequences(Xtokens, maxlen = maxlen,  padding = 'post', truncating = 'post')"
   ]
  },
  {
   "cell_type": "code",
   "execution_count": 13,
   "id": "5318bebc",
   "metadata": {},
   "outputs": [],
   "source": [
    "Ytrain = to_categorical(Y)"
   ]
  },
  {
   "cell_type": "markdown",
   "id": "greatest-violin",
   "metadata": {},
   "source": [
    "# Model"
   ]
  },
  {
   "cell_type": "code",
   "execution_count": 14,
   "id": "intended-rapid",
   "metadata": {},
   "outputs": [],
   "source": [
    "embed_size = 100\n",
    "embedding_matrix = np.zeros((len(word2index)+1, embed_size))\n",
    "\n",
    "for word, i in word2index.items():\n",
    "    embed_vector = embeddings[word]\n",
    "    embedding_matrix[i] = embed_vector"
   ]
  },
  {
   "cell_type": "code",
   "execution_count": 15,
   "id": "weighted-relationship",
   "metadata": {},
   "outputs": [
    {
     "data": {
      "text/plain": [
       "array([[ 0.      ,  0.      ,  0.      , ...,  0.      ,  0.      ,\n",
       "         0.      ],\n",
       "       [-0.046539,  0.61966 ,  0.56647 , ..., -0.37616 , -0.032502,\n",
       "         0.8062  ],\n",
       "       [-0.49886 ,  0.76602 ,  0.89751 , ..., -0.41179 ,  0.40539 ,\n",
       "         0.78504 ],\n",
       "       ...,\n",
       "       [-0.46263 ,  0.069864,  0.69095 , ..., -0.29174 ,  0.32041 ,\n",
       "         0.21202 ],\n",
       "       [ 0.073242,  0.11134 ,  0.62281 , ...,  0.53417 , -0.1646  ,\n",
       "        -0.27516 ],\n",
       "       [ 0.29019 ,  0.80497 ,  0.31187 , ..., -0.33603 ,  0.45998 ,\n",
       "        -0.11278 ]])"
      ]
     },
     "execution_count": 15,
     "metadata": {},
     "output_type": "execute_result"
    }
   ],
   "source": [
    "embedding_matrix"
   ]
  },
  {
   "cell_type": "code",
   "execution_count": 16,
   "id": "homeless-single",
   "metadata": {},
   "outputs": [],
   "source": [
    "model = Sequential([\n",
    "    Embedding(input_dim = len(word2index) + 1,\n",
    "              output_dim = embed_size,\n",
    "              input_length = maxlen,\n",
    "              weights = [embedding_matrix],\n",
    "              trainable = False\n",
    "             ),\n",
    "    \n",
    "    LSTM(units = 16, return_sequences = True),\n",
    "    LSTM(units = 4),\n",
    "    Dense(5, activation = 'softmax')\n",
    "])\n",
    "\n",
    "model.compile(optimizer = 'adam', loss = 'categorical_crossentropy', metrics = ['accuracy'])"
   ]
  },
  {
   "cell_type": "code",
   "execution_count": 18,
   "id": "technical-possible",
   "metadata": {},
   "outputs": [
    {
     "name": "stdout",
     "output_type": "stream",
     "text": [
      "Epoch 1/100\n",
      "6/6 [==============================] - 4s 8ms/step - loss: 1.6068 - accuracy: 0.2295\n",
      "Epoch 2/100\n",
      "6/6 [==============================] - 0s 7ms/step - loss: 1.5781 - accuracy: 0.3169\n",
      "Epoch 3/100\n",
      "6/6 [==============================] - 0s 8ms/step - loss: 1.5570 - accuracy: 0.3497\n",
      "Epoch 4/100\n",
      "6/6 [==============================] - 0s 8ms/step - loss: 1.5394 - accuracy: 0.3607\n",
      "Epoch 5/100\n",
      "6/6 [==============================] - 0s 9ms/step - loss: 1.5223 - accuracy: 0.3443\n",
      "Epoch 6/100\n",
      "6/6 [==============================] - 0s 9ms/step - loss: 1.5042 - accuracy: 0.3497\n",
      "Epoch 7/100\n",
      "6/6 [==============================] - 0s 9ms/step - loss: 1.4831 - accuracy: 0.3880\n",
      "Epoch 8/100\n",
      "6/6 [==============================] - 0s 9ms/step - loss: 1.4612 - accuracy: 0.4481\n",
      "Epoch 9/100\n",
      "6/6 [==============================] - 0s 9ms/step - loss: 1.4338 - accuracy: 0.4754\n",
      "Epoch 10/100\n",
      "6/6 [==============================] - 0s 9ms/step - loss: 1.4019 - accuracy: 0.5246\n",
      "Epoch 11/100\n",
      "6/6 [==============================] - 0s 8ms/step - loss: 1.3644 - accuracy: 0.5628\n",
      "Epoch 12/100\n",
      "6/6 [==============================] - 0s 8ms/step - loss: 1.3235 - accuracy: 0.5956\n",
      "Epoch 13/100\n",
      "6/6 [==============================] - 0s 8ms/step - loss: 1.2790 - accuracy: 0.5847\n",
      "Epoch 14/100\n",
      "6/6 [==============================] - 0s 8ms/step - loss: 1.2409 - accuracy: 0.6339\n",
      "Epoch 15/100\n",
      "6/6 [==============================] - 0s 8ms/step - loss: 1.1925 - accuracy: 0.6831\n",
      "Epoch 16/100\n",
      "6/6 [==============================] - 0s 6ms/step - loss: 1.1489 - accuracy: 0.7268\n",
      "Epoch 17/100\n",
      "6/6 [==============================] - 0s 8ms/step - loss: 1.1105 - accuracy: 0.7322\n",
      "Epoch 18/100\n",
      "6/6 [==============================] - 0s 8ms/step - loss: 1.0677 - accuracy: 0.7268\n",
      "Epoch 19/100\n",
      "6/6 [==============================] - 0s 8ms/step - loss: 1.0277 - accuracy: 0.7814\n",
      "Epoch 20/100\n",
      "6/6 [==============================] - 0s 7ms/step - loss: 0.9761 - accuracy: 0.7869\n",
      "Epoch 21/100\n",
      "6/6 [==============================] - 0s 7ms/step - loss: 0.9368 - accuracy: 0.8197\n",
      "Epoch 22/100\n",
      "6/6 [==============================] - 0s 8ms/step - loss: 0.8900 - accuracy: 0.8470\n",
      "Epoch 23/100\n",
      "6/6 [==============================] - 0s 7ms/step - loss: 0.8533 - accuracy: 0.8743\n",
      "Epoch 24/100\n",
      "6/6 [==============================] - 0s 8ms/step - loss: 0.8210 - accuracy: 0.8689\n",
      "Epoch 25/100\n",
      "6/6 [==============================] - 0s 7ms/step - loss: 0.7939 - accuracy: 0.8689\n",
      "Epoch 26/100\n",
      "6/6 [==============================] - 0s 7ms/step - loss: 0.7606 - accuracy: 0.9071\n",
      "Epoch 27/100\n",
      "6/6 [==============================] - 0s 9ms/step - loss: 0.7167 - accuracy: 0.9180\n",
      "Epoch 28/100\n",
      "6/6 [==============================] - 0s 8ms/step - loss: 0.7095 - accuracy: 0.9071\n",
      "Epoch 29/100\n",
      "6/6 [==============================] - 0s 8ms/step - loss: 0.6762 - accuracy: 0.9290\n",
      "Epoch 30/100\n",
      "6/6 [==============================] - 0s 8ms/step - loss: 0.6538 - accuracy: 0.9126\n",
      "Epoch 31/100\n",
      "6/6 [==============================] - 0s 7ms/step - loss: 0.6377 - accuracy: 0.9235\n",
      "Epoch 32/100\n",
      "6/6 [==============================] - 0s 7ms/step - loss: 0.6202 - accuracy: 0.9399\n",
      "Epoch 33/100\n",
      "6/6 [==============================] - 0s 8ms/step - loss: 0.6000 - accuracy: 0.9344\n",
      "Epoch 34/100\n",
      "6/6 [==============================] - 0s 8ms/step - loss: 0.5822 - accuracy: 0.9399\n",
      "Epoch 35/100\n",
      "6/6 [==============================] - 0s 8ms/step - loss: 0.5684 - accuracy: 0.9399\n",
      "Epoch 36/100\n",
      "6/6 [==============================] - 0s 8ms/step - loss: 0.5547 - accuracy: 0.9454\n",
      "Epoch 37/100\n",
      "6/6 [==============================] - 0s 9ms/step - loss: 0.5418 - accuracy: 0.9454\n",
      "Epoch 38/100\n",
      "6/6 [==============================] - 0s 8ms/step - loss: 0.5270 - accuracy: 0.9508\n",
      "Epoch 39/100\n",
      "6/6 [==============================] - 0s 8ms/step - loss: 0.5185 - accuracy: 0.9508\n",
      "Epoch 40/100\n",
      "6/6 [==============================] - 0s 7ms/step - loss: 0.5088 - accuracy: 0.9508\n",
      "Epoch 41/100\n",
      "6/6 [==============================] - 0s 8ms/step - loss: 0.4979 - accuracy: 0.9508\n",
      "Epoch 42/100\n",
      "6/6 [==============================] - 0s 7ms/step - loss: 0.4829 - accuracy: 0.9563\n",
      "Epoch 43/100\n",
      "6/6 [==============================] - 0s 7ms/step - loss: 0.4734 - accuracy: 0.9563\n",
      "Epoch 44/100\n",
      "6/6 [==============================] - 0s 8ms/step - loss: 0.4685 - accuracy: 0.9563\n",
      "Epoch 45/100\n",
      "6/6 [==============================] - 0s 8ms/step - loss: 0.4680 - accuracy: 0.9508\n",
      "Epoch 46/100\n",
      "6/6 [==============================] - 0s 6ms/step - loss: 0.4466 - accuracy: 0.9563\n",
      "Epoch 47/100\n",
      "6/6 [==============================] - 0s 8ms/step - loss: 0.4365 - accuracy: 0.9563\n",
      "Epoch 48/100\n",
      "6/6 [==============================] - 0s 7ms/step - loss: 0.4282 - accuracy: 0.9563\n",
      "Epoch 49/100\n",
      "6/6 [==============================] - 0s 8ms/step - loss: 0.4161 - accuracy: 0.9563\n",
      "Epoch 50/100\n",
      "6/6 [==============================] - 0s 6ms/step - loss: 0.4070 - accuracy: 0.9617\n",
      "Epoch 51/100\n",
      "6/6 [==============================] - 0s 9ms/step - loss: 0.3994 - accuracy: 0.9617\n",
      "Epoch 52/100\n",
      "6/6 [==============================] - 0s 8ms/step - loss: 0.3919 - accuracy: 0.9617\n",
      "Epoch 53/100\n",
      "6/6 [==============================] - 0s 8ms/step - loss: 0.3826 - accuracy: 0.9617\n",
      "Epoch 54/100\n",
      "6/6 [==============================] - 0s 10ms/step - loss: 0.3757 - accuracy: 0.9617\n",
      "Epoch 55/100\n",
      "6/6 [==============================] - 0s 7ms/step - loss: 0.3655 - accuracy: 0.9617\n",
      "Epoch 56/100\n",
      "6/6 [==============================] - 0s 8ms/step - loss: 0.3591 - accuracy: 0.9617\n",
      "Epoch 57/100\n",
      "6/6 [==============================] - 0s 7ms/step - loss: 0.3525 - accuracy: 0.9617\n",
      "Epoch 58/100\n",
      "6/6 [==============================] - 0s 6ms/step - loss: 0.3449 - accuracy: 0.9617\n",
      "Epoch 59/100\n",
      "6/6 [==============================] - 0s 7ms/step - loss: 0.3362 - accuracy: 0.9617\n",
      "Epoch 60/100\n",
      "6/6 [==============================] - 0s 7ms/step - loss: 0.3293 - accuracy: 0.9617\n",
      "Epoch 61/100\n",
      "6/6 [==============================] - 0s 7ms/step - loss: 0.3231 - accuracy: 0.9617\n",
      "Epoch 62/100\n",
      "6/6 [==============================] - 0s 6ms/step - loss: 0.3170 - accuracy: 0.9617\n",
      "Epoch 63/100\n",
      "6/6 [==============================] - 0s 7ms/step - loss: 0.3157 - accuracy: 0.9617\n",
      "Epoch 64/100\n",
      "6/6 [==============================] - 0s 7ms/step - loss: 0.3081 - accuracy: 0.9617\n",
      "Epoch 65/100\n",
      "6/6 [==============================] - 0s 8ms/step - loss: 0.3008 - accuracy: 0.9672\n",
      "Epoch 66/100\n",
      "6/6 [==============================] - 0s 6ms/step - loss: 0.2865 - accuracy: 0.9672\n",
      "Epoch 67/100\n",
      "6/6 [==============================] - 0s 6ms/step - loss: 0.2814 - accuracy: 0.9672\n",
      "Epoch 68/100\n",
      "6/6 [==============================] - 0s 7ms/step - loss: 0.2755 - accuracy: 0.9672\n",
      "Epoch 69/100\n",
      "6/6 [==============================] - 0s 7ms/step - loss: 0.2691 - accuracy: 0.9672\n",
      "Epoch 70/100\n",
      "6/6 [==============================] - 0s 7ms/step - loss: 0.2653 - accuracy: 0.9672\n",
      "Epoch 71/100\n",
      "6/6 [==============================] - 0s 7ms/step - loss: 0.2603 - accuracy: 0.9672\n",
      "Epoch 72/100\n",
      "6/6 [==============================] - 0s 7ms/step - loss: 0.2541 - accuracy: 0.9672\n",
      "Epoch 73/100\n",
      "6/6 [==============================] - 0s 7ms/step - loss: 0.2490 - accuracy: 0.9672\n",
      "Epoch 74/100\n",
      "6/6 [==============================] - 0s 7ms/step - loss: 0.2446 - accuracy: 0.9672\n",
      "Epoch 75/100\n",
      "6/6 [==============================] - 0s 7ms/step - loss: 0.2399 - accuracy: 0.9672\n",
      "Epoch 76/100\n",
      "6/6 [==============================] - 0s 7ms/step - loss: 0.2352 - accuracy: 0.9672\n",
      "Epoch 77/100\n",
      "6/6 [==============================] - 0s 7ms/step - loss: 0.2311 - accuracy: 0.9672\n",
      "Epoch 78/100\n",
      "6/6 [==============================] - 0s 7ms/step - loss: 0.2262 - accuracy: 0.9672\n",
      "Epoch 79/100\n",
      "6/6 [==============================] - 0s 7ms/step - loss: 0.2223 - accuracy: 0.9672\n",
      "Epoch 80/100\n",
      "6/6 [==============================] - 0s 7ms/step - loss: 0.2176 - accuracy: 0.9672\n",
      "Epoch 81/100\n",
      "6/6 [==============================] - 0s 8ms/step - loss: 0.2136 - accuracy: 0.9672\n",
      "Epoch 82/100\n",
      "6/6 [==============================] - 0s 8ms/step - loss: 0.2090 - accuracy: 0.9672\n",
      "Epoch 83/100\n",
      "6/6 [==============================] - 0s 8ms/step - loss: 0.2049 - accuracy: 0.9672\n",
      "Epoch 84/100\n"
     ]
    },
    {
     "name": "stdout",
     "output_type": "stream",
     "text": [
      "6/6 [==============================] - 0s 7ms/step - loss: 0.1996 - accuracy: 0.9727\n",
      "Epoch 85/100\n",
      "6/6 [==============================] - 0s 7ms/step - loss: 0.1932 - accuracy: 0.9727\n",
      "Epoch 86/100\n",
      "6/6 [==============================] - 0s 6ms/step - loss: 0.1889 - accuracy: 0.9727\n",
      "Epoch 87/100\n",
      "6/6 [==============================] - 0s 6ms/step - loss: 0.1852 - accuracy: 0.9727\n",
      "Epoch 88/100\n",
      "6/6 [==============================] - 0s 7ms/step - loss: 0.1861 - accuracy: 0.9727\n",
      "Epoch 89/100\n",
      "6/6 [==============================] - 0s 6ms/step - loss: 0.2617 - accuracy: 0.9508\n",
      "Epoch 90/100\n",
      "6/6 [==============================] - 0s 7ms/step - loss: 0.2335 - accuracy: 0.9508\n",
      "Epoch 91/100\n",
      "6/6 [==============================] - 0s 7ms/step - loss: 0.1989 - accuracy: 0.9672\n",
      "Epoch 92/100\n",
      "6/6 [==============================] - 0s 6ms/step - loss: 0.1882 - accuracy: 0.9727\n",
      "Epoch 93/100\n",
      "6/6 [==============================] - 0s 7ms/step - loss: 0.1914 - accuracy: 0.9672\n",
      "Epoch 94/100\n",
      "6/6 [==============================] - 0s 6ms/step - loss: 0.1774 - accuracy: 0.9672\n",
      "Epoch 95/100\n",
      "6/6 [==============================] - 0s 7ms/step - loss: 0.1714 - accuracy: 0.9781\n",
      "Epoch 96/100\n",
      "6/6 [==============================] - 0s 6ms/step - loss: 0.1610 - accuracy: 0.9727\n",
      "Epoch 97/100\n",
      "6/6 [==============================] - 0s 7ms/step - loss: 0.1581 - accuracy: 0.9781\n",
      "Epoch 98/100\n",
      "6/6 [==============================] - 0s 7ms/step - loss: 0.1557 - accuracy: 0.9727\n",
      "Epoch 99/100\n",
      "6/6 [==============================] - 0s 7ms/step - loss: 0.1524 - accuracy: 0.9727\n",
      "Epoch 100/100\n",
      "6/6 [==============================] - 0s 7ms/step - loss: 0.1507 - accuracy: 0.9727\n"
     ]
    },
    {
     "data": {
      "text/plain": [
       "<keras.callbacks.History at 0x1e6dff02130>"
      ]
     },
     "execution_count": 18,
     "metadata": {},
     "output_type": "execute_result"
    }
   ],
   "source": [
    "model.fit(Xtrain, Ytrain, epochs = 100)"
   ]
  },
  {
   "cell_type": "code",
   "execution_count": 19,
   "id": "convertible-spider",
   "metadata": {},
   "outputs": [
    {
     "name": "stdout",
     "output_type": "stream",
     "text": [
      "1/1 [==============================] - 1s 759ms/step\n",
      "I feel good 😃\n",
      "I feel very bad 😞\n",
      "lets eat dinner 🍽️\n"
     ]
    }
   ],
   "source": [
    "test = [\"I feel good\", \"I feel very bad\", \"lets eat dinner\"]\n",
    "\n",
    "test_seq = tokenizer.texts_to_sequences(test)\n",
    "Xtest = pad_sequences(test_seq, maxlen = maxlen, padding = 'post', truncating = 'post')\n",
    "\n",
    "y_pred = model.predict(Xtest)\n",
    "y_pred = np.argmax(y_pred, axis = 1)\n",
    "\n",
    "for i in range(len(test)):\n",
    "    print(test[i], label_to_emoji(y_pred[i]))"
   ]
  },
  {
   "cell_type": "code",
   "execution_count": null,
   "id": "ed6f38ba",
   "metadata": {},
   "outputs": [],
   "source": []
  }
 ],
 "metadata": {
  "kernelspec": {
   "display_name": "Python 3 (ipykernel)",
   "language": "python",
   "name": "python3"
  },
  "language_info": {
   "codemirror_mode": {
    "name": "ipython",
    "version": 3
   },
   "file_extension": ".py",
   "mimetype": "text/x-python",
   "name": "python",
   "nbconvert_exporter": "python",
   "pygments_lexer": "ipython3",
   "version": "3.9.7"
  }
 },
 "nbformat": 4,
 "nbformat_minor": 5
}
